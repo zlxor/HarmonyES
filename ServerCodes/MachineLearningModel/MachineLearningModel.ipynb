{
 "cells": [
  {
   "cell_type": "code",
   "execution_count": 3,
   "id": "e646f5e2",
   "metadata": {},
   "outputs": [
    {
     "name": "stderr",
     "output_type": "stream",
     "text": [
      "/root/anaconda3/envs/HW/lib/python3.7/site-packages/sklearn/utils/validation.py:1692: FutureWarning: Feature names only support names that are all strings. Got feature names with dtypes: ['int', 'str']. An error will be raised in 1.2.\n",
      "  FutureWarning,\n"
     ]
    },
    {
     "data": {
      "text/plain": [
       "['consumption_power_model.sav']"
      ]
     },
     "execution_count": 3,
     "metadata": {},
     "output_type": "execute_result"
    }
   ],
   "source": [
    "from sklearn.linear_model import LinearRegression\n",
    "from sklearn.preprocessing import PolynomialFeatures\n",
    "import pandas as pd\n",
    "import numpy as np\n",
    "import joblib\n",
    "\n",
    "#read data\n",
    "weather_data = pd.read_csv('weather_data_train.csv')\n",
    "\n",
    "\n",
    "'''standardize part (optional)\n",
    "#weather_data.loc[:,\"temperature\"] = ((weather_data.loc[:,\"temperature\"] - np.mean(weather_data.loc[:,\"temperature\"]))/np.std(weather_data.loc[:,\"temperature\"]))\n",
    "#weather_data.loc[:,\"light_intensity\"] = ((weather_data.loc[:,\"light_intensity\"] - np.mean(weather_data.loc[:,\"light_intensity\"]))/np.std(weather_data.loc[:,\"light_intensity\"]))\n",
    "#weather_data.loc[:,\"wind_power\"] = ((weather_data.loc[:,\"wind_power\"] - np.mean(weather_data.loc[:,\"wind_power\"]))/np.std(weather_data.loc[:,\"wind_power\"]))\n",
    "#weather_data.loc[:,\"humidity\"] = ((weather_data.loc[:,\"humidity\"] - np.mean(weather_data.loc[:,\"humidity\"]))/np.std(weather_data.loc[:,\"humidity\"]))\n",
    "'''\n",
    "\n",
    "#data transform\n",
    "Wind_speed = weather_data['wind_speed']\n",
    "trans = PolynomialFeatures(degree=3)\n",
    "transform_wind_speed = trans.fit_transform(Wind_speed.values.reshape(-1,1))\n",
    "\n",
    "#data manipulation\n",
    "wind_speed_cubic = transform_wind_speed[:,3]\n",
    "X_normal = weather_data[['temperature','light_intensity',\"humidity\",\"wind_speed\"]]\n",
    "X_transform = pd.concat([weather_data[['temperature','light_intensity',\"humidity\"]], pd.DataFrame(wind_speed_cubic)], axis=1)\n",
    "Wind_power = weather_data['wind_power']\n",
    "Solar_power = weather_data['solar_power']\n",
    "Consumption = weather_data['consumption']\n",
    "\n",
    "#machine learning training\n",
    "lrRw = LinearRegression()\n",
    "lrRs = LinearRegression()\n",
    "lrRc = LinearRegression()\n",
    "w_model = lrRw.fit(X_transform,Wind_power.values.reshape(-1,1))\n",
    "s_model = lrRs.fit(X_normal,Solar_power.values.reshape(-1,1))\n",
    "c_model = lrRc.fit(X_normal,Consumption.values.reshape(-1,1))\n",
    "\n",
    "#save the trained models\n",
    "#coeffcients' attritutes order: temperature,light_intensity,humidity,wind_speed(wind_speed^3 for w_model)\n",
    "filename1 = 'wind_power_model.sav'\n",
    "joblib.dump(w_model, filename1)\n",
    "filename2 = 'solar_power_model.sav'\n",
    "joblib.dump(s_model, filename2)\n",
    "filename3 = 'consumption_power_model.sav'\n",
    "joblib.dump(c_model, filename3)\n"
   ]
  },
  {
   "cell_type": "code",
   "execution_count": null,
   "id": "737f618c",
   "metadata": {},
   "outputs": [],
   "source": []
  }
 ],
 "metadata": {
  "kernelspec": {
   "display_name": "Python [conda env:HW]",
   "language": "python",
   "name": "conda-env-HW-py"
  },
  "language_info": {
   "codemirror_mode": {
    "name": "ipython",
    "version": 3
   },
   "file_extension": ".py",
   "mimetype": "text/x-python",
   "name": "python",
   "nbconvert_exporter": "python",
   "pygments_lexer": "ipython3",
   "version": "3.7.11"
  }
 },
 "nbformat": 4,
 "nbformat_minor": 5
}
