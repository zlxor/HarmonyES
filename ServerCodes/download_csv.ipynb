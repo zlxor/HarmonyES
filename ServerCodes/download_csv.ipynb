{
 "cells": [
  {
   "cell_type": "code",
   "execution_count": 1,
   "id": "75cdc70b",
   "metadata": {},
   "outputs": [],
   "source": [
    "import pymysql \n",
    "import pandas as pd\n",
    "\n",
    "class MysqlSave:\n",
    "\n",
    "    def __init__(self):\n",
    "        self.content = pymysql.Connect(\n",
    "            host='192.168.0.212',\n",
    "            port=3306,  \n",
    "            user='root', \n",
    "            passwd='Aa111111#',  \n",
    "            charset='utf8',\n",
    "        )\n",
    "        self.cursor = self.content.cursor()\n",
    "\n",
    "    def search_and_save(self,sql,csv_file):\n",
    "        '''\n",
    "        function to export as csv\n",
    "        :param sql: sql command to be executed\n",
    "        :param csv_file: file name of csv\n",
    "        :return: \n",
    "        '''\n",
    "\n",
    "        # execute the sql command\n",
    "        self.cursor.execute(sql)\n",
    "        \n",
    "        # get index\n",
    "        des = self.cursor.description\n",
    "        title = [each[0] for each in des]\n",
    "\n",
    "        # get the content of database\n",
    "        result_list = []\n",
    "        for each in  self.cursor.fetchall():\n",
    "            result_list.append(list(each))\n",
    "\n",
    "        # save as dataframe\n",
    "        df_dealed = pd.DataFrame(result_list, columns=title)\n",
    "        df_dealed.to_csv(csv_file, index = None, encoding ='utf_8_sig')\n",
    "\n",
    "\n",
    "def download():\n",
    "    if __name__ == '__main__':\n",
    "        mysql = MysqlSave()\n",
    "        mysql.search_and_save('SELECT * FROM harmonyes.weather_predict;','weather_predict.csv')\n",
    "        mysql.search_and_save('SELECT * FROM harmonyes.weather_history;','weather_history.csv')\n",
    "        mysql.search_and_save('SELECT * FROM harmonyes.schedule;','schedule.csv')\n",
    "        mysql.search_and_save('SELECT * FROM harmonyes.schedule_history;','schedule_history.csv')\n",
    "        mysql.search_and_save('SELECT * FROM harmonyes.controlled_nodes;','controlled_nodes.csv')\n",
    "        mysql.search_and_save('SELECT * FROM harmonyes.weather_based_nodes;','weather_based_nodes.csv')\n",
    "    \n",
    "    # ('SELECT * FROM database_name.table_name;', 'csv_file_name.csv')"
   ]
  },
  {
   "cell_type": "code",
   "execution_count": 2,
   "id": "bd9994f4",
   "metadata": {},
   "outputs": [],
   "source": [
    "download()"
   ]
  }
 ],
 "metadata": {
  "kernelspec": {
   "display_name": "Python [conda env:HW]",
   "language": "python",
   "name": "conda-env-HW-py"
  },
  "language_info": {
   "codemirror_mode": {
    "name": "ipython",
    "version": 3
   },
   "file_extension": ".py",
   "mimetype": "text/x-python",
   "name": "python",
   "nbconvert_exporter": "python",
   "pygments_lexer": "ipython3",
   "version": "3.7.11"
  }
 },
 "nbformat": 4,
 "nbformat_minor": 5
}
